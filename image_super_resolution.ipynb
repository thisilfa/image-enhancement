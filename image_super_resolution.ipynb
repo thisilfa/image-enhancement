{
 "cells": [
  {
   "cell_type": "code",
   "execution_count": 5,
   "metadata": {},
   "outputs": [],
   "source": [
    "import os\n",
    "import cv2\n",
    "from cv2 import dnn_superres\n",
    "import io\n",
    "import imageio\n",
    "import time"
   ]
  },
  {
   "cell_type": "code",
   "execution_count": 23,
   "metadata": {},
   "outputs": [],
   "source": [
    "def save_to(img_arr, src_path):\n",
    "    filename = f\"{src_path}\"\n",
    "    image_file = io.BytesIO()\n",
    "    imageio.imwrite(image_file, img_arr, format='jpg')\n",
    "    image_file.seek(0)\n",
    "\n",
    "    with open(filename, 'wb') as f:\n",
    "        f.write(image_file.getbuffer())"
   ]
  },
  {
   "cell_type": "code",
   "execution_count": 32,
   "metadata": {},
   "outputs": [],
   "source": [
    "def downscaling(image):\n",
    "    rows, cols, _ = map(int, image.shape)\n",
    "    return cv2.cvtColor(cv2.resize(image, ((cols // 5), (rows // 5))), cv2.COLOR_BGR2RGB)\n",
    "\n",
    "def prepare_data(data_dir, output_dir):\n",
    "    if not os.path.exists(output_dir):\n",
    "        os.makedirs(output_dir)\n",
    "    for filename in os.listdir(data_dir):\n",
    "        if filename.endswith(\".jpg\") or filename.endswith(\".png\") or filename.endswith(\".png\"):\n",
    "            img = cv2.cvtColor(cv2.imread(os.path.join(data_dir, filename)), cv2.COLOR_BGR2RGB)\n",
    "            lr_img = downscaling(img)\n",
    "            cv2.imwrite(f\"{output_dir}/{filename.split('.')[0]}_5e-1x.jpg\", lr_img)"
   ]
  },
  {
   "cell_type": "code",
   "execution_count": 33,
   "metadata": {},
   "outputs": [],
   "source": [
    "prepare_data(\"images\", \"downscaled\")"
   ]
  },
  {
   "cell_type": "code",
   "execution_count": 38,
   "metadata": {},
   "outputs": [],
   "source": [
    "def preprocessing(img_path):\n",
    "    filename = f\"{img_path.split('/')[-1]}\"\n",
    "    start_time = time.time()\n",
    "\n",
    "    img = cv2.imread(img_path)\n",
    "    img_rgb = cv2.cvtColor(img, cv2.COLOR_BGR2RGB)\n",
    "    \n",
    "    path = 'models/fsrcnn/FSRCNN_x3.pb'\n",
    "    \n",
    "    superres = dnn_superres.DnnSuperResImpl_create()\n",
    "    superres.readModel(path)\n",
    "    superres.setModel(\"fsrcnn\", 3)\n",
    "    \n",
    "    img_rgb = superres.upsample(img_rgb)\n",
    "    \n",
    "    # img_rgb = cv2.normalize(img_rgb, None, alpha=0, beta=320, norm_type=cv2.NORM_MINMAX)\n",
    "#     img_rgb = enhance_sharpness(img_rgb, kernels['mild'])\n",
    "#     img_rgb = cv2.GaussianBlur(img_rgb, (3, 3), 0)\n",
    "    \n",
    "    print(f\"Process {img_path} in time: {round((time.time() - start_time), 2)} \\n ====\")\n",
    "    cv2.imwrite(f\"result/{filename.split('_')[0]}_fsrcnnx3.jpg\", cv2.cvtColor(img_rgb, cv2.COLOR_BGR2RGB))\n"
   ]
  },
  {
   "cell_type": "code",
   "execution_count": 39,
   "metadata": {},
   "outputs": [
    {
     "name": "stdout",
     "output_type": "stream",
     "text": [
      "Process images/example.jpg in time: 59.08 \n",
      " ====\n"
     ]
    }
   ],
   "source": [
    "preprocessing('images/example.jpg')"
   ]
  },
  {
   "cell_type": "code",
   "execution_count": null,
   "metadata": {},
   "outputs": [],
   "source": []
  }
 ],
 "metadata": {
  "kernelspec": {
   "display_name": "dlib-bond",
   "language": "python",
   "name": "python3"
  },
  "language_info": {
   "codemirror_mode": {
    "name": "ipython",
    "version": 3
   },
   "file_extension": ".py",
   "mimetype": "text/x-python",
   "name": "python",
   "nbconvert_exporter": "python",
   "pygments_lexer": "ipython3",
   "version": "3.8.0"
  }
 },
 "nbformat": 4,
 "nbformat_minor": 2
}
